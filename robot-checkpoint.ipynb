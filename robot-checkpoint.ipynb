{
 "cells": [
  {
   "cell_type": "code",
   "execution_count": 1,
   "id": "f4302f74-c09b-4ec3-a958-de6b69042d40",
   "metadata": {},
   "outputs": [],
   "source": [
    "import numpy as np\n",
    " \n",
    "def sigmoid(x):\n",
    "    return 1.0/(1.0 + np.exp(-x))\n",
    " \n",
    "def sigmoid_derivada(x):\n",
    "    return sigmoid(x)*(1.0-sigmoid(x))\n",
    " \n",
    "def tanh(x):\n",
    "    return np.tanh(x)\n",
    " \n",
    "def tanh_derivada(x):\n",
    "    return 1.0 - x**2\n",
    " \n",
    " \n",
    "class NeuralNetwork:\n",
    " \n",
    "    def __init__(self, layers, activation='tanh'):\n",
    "        if activation == 'sigmoid':\n",
    "            self.activation = sigmoid\n",
    "            self.activation_prime = sigmoid_derivada\n",
    "        elif activation == 'tanh':\n",
    "            self.activation = tanh\n",
    "            self.activation_prime = tanh_derivada\n",
    " \n",
    "        # inicializo los pesos\n",
    "        self.weights = []\n",
    "        self.deltas = []\n",
    "        # capas = [2,3,2]\n",
    "        # rando de pesos varia entre (-1,1)\n",
    "        # asigno valores aleatorios a capa de entrada y capa oculta\n",
    "        for i in range(1, len(layers) - 1):\n",
    "            r = 2*np.random.random((layers[i-1] + 1, layers[i] + 1)) -1\n",
    "            self.weights.append(r)\n",
    "        # asigno aleatorios a capa de salida\n",
    "        r = 2*np.random.random( (layers[i] + 1, layers[i+1])) - 1\n",
    "        self.weights.append(r)\n",
    " \n",
    "    def fit(self, X, y, learning_rate=0.2, epochs=100000):\n",
    "        # Agrego columna de unos a las entradas X\n",
    "        # Con esto agregamos la unidad de Bias a la capa de entrada\n",
    "        ones = np.atleast_2d(np.ones(X.shape[0]))\n",
    "        X = np.concatenate((ones.T, X), axis=1)\n",
    "       \n",
    "        for k in range(epochs):\n",
    "            i = np.random.randint(X.shape[0])\n",
    "            a = [X[i]]\n",
    " \n",
    "            for l in range(len(self.weights)):\n",
    "                    dot_value = np.dot(a[l], self.weights[l])\n",
    "                    activation = self.activation(dot_value)\n",
    "                    a.append(activation)\n",
    "            # Calculo la diferencia en la capa de salida y el valor obtenido\n",
    "            error = y[i] - a[-1]\n",
    "            deltas = [error * self.activation_prime(a[-1])]\n",
    "           \n",
    "            # Empezamos en el segundo layer hasta el ultimo\n",
    "            # (Una capa anterior a la de salida)\n",
    "            for l in range(len(a) - 2, 0, -1):\n",
    "                deltas.append(deltas[-1].dot(self.weights[l].T)*self.activation_prime(a[l]))\n",
    "            self.deltas.append(deltas)\n",
    " \n",
    "            # invertir\n",
    "            # [level3(output)->level2(hidden)]  => [level2(hidden)->level3(output)]\n",
    "            deltas.reverse()\n",
    " \n",
    "            # backpropagation\n",
    "            # 1. Multiplcar los delta de salida con las activaciones de entrada\n",
    "            #    para obtener el gradiente del peso.\n",
    "            # 2. actualizo el peso restandole un porcentaje del gradiente\n",
    "            for i in range(len(self.weights)):\n",
    "                layer = np.atleast_2d(a[i])\n",
    "                delta = np.atleast_2d(deltas[i])\n",
    "                self.weights[i] += learning_rate * layer.T.dot(delta)\n",
    " \n",
    "            if k % 10000 == 0: print('epochs:', k)\n",
    " \n",
    "    def predict(self, x):\n",
    "        ones = np.atleast_2d(np.ones(x.shape[0]))\n",
    "        a = np.concatenate((np.ones(1).T, np.array(x)), axis=0)\n",
    "        for l in range(0, len(self.weights)):\n",
    "            a = self.activation(np.dot(a, self.weights[l]))\n",
    "        return a\n",
    " \n",
    "    def print_weights(self):\n",
    "        print(\"LISTADO PESOS DE CONEXIONES\")\n",
    "        for i in range(len(self.weights)):\n",
    "            print(self.weights[i])\n",
    " \n",
    "    def get_deltas(self):\n",
    "        return self.deltas\n"
   ]
  },
  {
   "cell_type": "code",
   "execution_count": 2,
   "id": "bdc0edb0-6d61-4283-a25f-d301d873e74b",
   "metadata": {},
   "outputs": [
    {
     "name": "stdout",
     "output_type": "stream",
     "text": [
      "epochs: 0\n",
      "Entrdas: [0 0] Salidas: [0.0040727]\n",
      "Entrdas: [0 1] Salidas: [0.95896947]\n",
      "Entrdas: [1 0] Salidas: [0.95908109]\n",
      "Entrdas: [1 1] Salidas: [9.67967582e-05]\n"
     ]
    }
   ],
   "source": [
    "# funcion XOR\n",
    "nn = NeuralNetwork([2,2,1])\n",
    "X = np.array([[0, 0],\n",
    "            [0, 1],\n",
    "            [1, 0],\n",
    "            [1, 1]])\n",
    "y = np.array([0, 1, 1, 0])\n",
    "nn.fit(X, y,epochs=2000)\n",
    "for e in X:\n",
    "    print(\"Entrdas:\",e,\"Salidas:\",nn.predict(e))"
   ]
  },
  {
   "cell_type": "code",
   "execution_count": 3,
   "id": "9155f0c3-9f0a-43fb-8b7a-610915a0ac9f",
   "metadata": {},
   "outputs": [
    {
     "name": "stdout",
     "output_type": "stream",
     "text": [
      "epochs: 0\n",
      "epochs: 10000\n",
      "X: [0. 0.] y: [0 1] Network: [0.00414127 0.99998209]\n",
      "X: [0. 1.] y: [0 1] Network: [-0.00824164  0.99996569]\n",
      "X: [ 0. -1.] y: [0 1] Network: [-0.00368646  0.99995224]\n",
      "X: [0.5 1. ] y: [-1  1] Network: [-0.94846824  0.9708909 ]\n",
      "X: [ 0.5 -1. ] y: [1 1] Network: [0.9475163 0.9443195]\n",
      "X: [1. 1.] y: [ 0 -1] Network: [-0.0081922  -0.99489305]\n",
      "X: [ 1. -1.] y: [ 0 -1] Network: [ 0.00403004 -0.96450506]\n"
     ]
    }
   ],
   "source": [
    "# funcion Coche Evita obstáculos\n",
    "nn = NeuralNetwork([2,3,2],activation ='tanh')\n",
    "X = np.array([[0, 0],   # sin obstaculos\n",
    "              [0, 1],   # sin obstaculos\n",
    "              [0, -1],  # sin obstaculos\n",
    "              [0.5, 1], # obstaculo detectado a derecha\n",
    "              [0.5,-1], # obstaculo a izq\n",
    "              [1,1],    # demasiado cerca a derecha\n",
    "              [1,-1]])  # demasiado cerca a izq\n",
    "\n",
    "y = np.array([[0,1],    # avanzar\n",
    "              [0,1],    # avanzar\n",
    "              [0,1],    # avanzar\n",
    "              [-1,1],   # giro izquierda\n",
    "              [1,1],    # giro derecha\n",
    "              [0,-1],   # retroceder\n",
    "              [0,-1]])  # retroceder\n",
    "nn.fit(X, y, learning_rate=0.03,epochs=15001)\n",
    "\n",
    "index=0\n",
    "for e in X:\n",
    "    print(\"X:\",e,\"y:\",y[index],\"Network:\",nn.predict(e))\n",
    "    index=index+1"
   ]
  },
  {
   "cell_type": "code",
   "execution_count": 4,
   "id": "1052b4b9-8d9c-4691-915d-856777b99bd2",
   "metadata": {},
   "outputs": [
    {
     "name": "stdout",
     "output_type": "stream",
     "text": [
      "LISTADO PESOS DE CONEXIONES\n",
      "[[ 1.62464747  1.47860695 -1.54884582  0.2017696 ]\n",
      " [-1.50110136 -2.96225594  2.97818915 -0.19907332]\n",
      " [-0.2286807   0.82425264  0.73230587  0.76388603]]\n",
      "[[-0.20849573  2.76438979]\n",
      " [-1.97081308  2.12137194]\n",
      " [-1.92229683 -1.47839423]\n",
      " [ 1.0898929  -0.04422452]]\n"
     ]
    }
   ],
   "source": [
    "nn.print_weights()"
   ]
  },
  {
   "cell_type": "code",
   "execution_count": null,
   "id": "dcb96d4b-138b-4120-afc4-88e11f548741",
   "metadata": {},
   "outputs": [],
   "source": [
    "import matplotlib.pyplot as plt\n",
    "\n",
    "deltas = nn.get_deltas()\n",
    "valores=[]\n",
    "index=0\n",
    "for arreglo in deltas:\n",
    "    valores.append(arreglo[1][0] + arreglo[1][1])\n",
    "    index=index+1\n",
    "\n",
    "plt.plot(range(len(valores)), valores, color='b')\n",
    "plt.ylim([0, 1])\n",
    "plt.ylabel('Cost')\n",
    "plt.xlabel('Epochs')\n",
    "plt.tight_layout()\n",
    "plt.show()"
   ]
  }
 ],
 "metadata": {
  "kernelspec": {
   "display_name": "Python 3 (ipykernel)",
   "language": "python",
   "name": "python3"
  },
  "language_info": {
   "codemirror_mode": {
    "name": "ipython",
    "version": 3
   },
   "file_extension": ".py",
   "mimetype": "text/x-python",
   "name": "python",
   "nbconvert_exporter": "python",
   "pygments_lexer": "ipython3",
   "version": "3.13.2"
  }
 },
 "nbformat": 4,
 "nbformat_minor": 5
}
